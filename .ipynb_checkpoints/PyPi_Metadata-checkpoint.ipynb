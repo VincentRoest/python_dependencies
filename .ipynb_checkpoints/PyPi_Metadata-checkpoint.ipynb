{
 "cells": [
  {
   "cell_type": "markdown",
   "metadata": {},
   "source": [
    "# Fetching Pypi data\n",
    "This notebook fetches every package from the pypi server (~74000 packages!), extracts the setup.py and any file or folder with the word 'requirements' in it. "
   ]
  },
  {
   "cell_type": "code",
   "execution_count": 9,
   "metadata": {
    "collapsed": false
   },
   "outputs": [],
   "source": [
    "import xmlrpclib\n",
    "# only one api server so we'll use the deutschland mirror for downloading\n",
    "client = xmlrpclib.ServerProxy('https://pypi.python.org/pypi')\n",
    "packages = client.list_packages()\n"
   ]
  },
  {
   "cell_type": "code",
   "execution_count": 13,
   "metadata": {
    "collapsed": false
   },
   "outputs": [
    {
     "ename": "ImportError",
     "evalue": "No module named glib.utils.HelperFunctions",
     "output_type": "error",
     "traceback": [
      "\u001b[0;31m---------------------------------------------------------------------------\u001b[0m",
      "\u001b[0;31mImportError\u001b[0m                               Traceback (most recent call last)",
      "\u001b[0;32m<ipython-input-13-70e4ff17ba39>\u001b[0m in \u001b[0;36m<module>\u001b[0;34m()\u001b[0m\n\u001b[1;32m      1\u001b[0m \u001b[0;32mimport\u001b[0m \u001b[0mtarfile\u001b[0m\u001b[0;34m,\u001b[0m \u001b[0mre\u001b[0m\u001b[0;34m,\u001b[0m \u001b[0mrequests\u001b[0m\u001b[0;34m,\u001b[0m \u001b[0mcsv\u001b[0m\u001b[0;34m,\u001b[0m \u001b[0mjson\u001b[0m\u001b[0;34m\u001b[0m\u001b[0m\n\u001b[1;32m      2\u001b[0m \u001b[0;32mfrom\u001b[0m \u001b[0mbase64\u001b[0m \u001b[0;32mimport\u001b[0m \u001b[0mb64encode\u001b[0m\u001b[0;34m\u001b[0m\u001b[0m\n\u001b[0;32m----> 3\u001b[0;31m \u001b[0;32mfrom\u001b[0m \u001b[0mglib\u001b[0m\u001b[0;34m.\u001b[0m\u001b[0mutils\u001b[0m\u001b[0;34m.\u001b[0m\u001b[0mHelperFunctions\u001b[0m \u001b[0;32mimport\u001b[0m \u001b[0mensure_dir\u001b[0m\u001b[0;34m\u001b[0m\u001b[0m\n\u001b[0m\u001b[1;32m      4\u001b[0m \u001b[0;34m\u001b[0m\u001b[0m\n\u001b[1;32m      5\u001b[0m \u001b[0;34m\u001b[0m\u001b[0m\n",
      "\u001b[0;31mImportError\u001b[0m: No module named glib.utils.HelperFunctions"
     ]
    }
   ],
   "source": [
    "import tarfile, re, requests, csv, json\n",
    "from base64 import b64encode\n",
    "from kglib.utils.HelperFunctions import ensure_dir\n",
    "                \n",
    "\n",
    "def _save_file(pathname, member, tar_file):\n",
    "    try:\n",
    "        content = tar_file.extractfile(member).read()\n",
    "    except:\n",
    "        return\n",
    "    \n",
    "    outfilename = '{}{}'.format(pathname, os.path.basename(member.name))\n",
    "    ensure_dir(outfilename)\n",
    "    with open(outfilename, 'w') as outfile:\n",
    "        outfile.write(content)\n",
    "    return\n",
    "                \n",
    "\n",
    "def _extract_files(package_file, name):\n",
    "    try:\n",
    "        tar_file = tarfile.open(fileobj=package_file)\n",
    "    except:\n",
    "        return\n",
    "    for member in tar_file.getmembers():\n",
    "        if 'setup.py' in member.name or 'requirements' in member.name:\n",
    "            _save_file(name, member, tar_file)\n",
    "        #    content = tar_file.extractfile(member).read()\n",
    "        #    with open('{}{}'.format(name, os.path.basename(member.name)), 'w') as outfile:\n",
    "        #        outfile.write(content)\n",
    "        #elif 'requirements' in member.name:\n",
    "        #    content = tar_file.extractfile(member).read()\n",
    "        #    with open('{}{}'.format(name, os.path.basename(member.name)), 'w') as outfile:\n",
    "        #        outfile.write(content)\n",
    "                \n",
    "                \n",
    "def extract_package(name, client=xmlrpclib.ServerProxy('http://pypi.python.org/pypi')):\n",
    "    for release in client.package_releases(name):\n",
    "        outdir = 'packages/{}-{}/'.format(name, release)\n",
    "        doc = client.release_urls(name, release)\n",
    "        print doc\n",
    "        if doc:\n",
    "            url = None\n",
    "            for d in doc:\n",
    "                if d['python_version'] == 'source' and d['url'].endswith('gz'):\n",
    "                    url = d['url']\n",
    "            if url:\n",
    "                #print(doc[3])\n",
    "                #url = doc[0].get('url')#.replace(\"http://pypi.python.org/\", \"http://f.pypi.python.org/\")\n",
    "                #print \"Downloading url %s\" % url\n",
    "                req = requests.get(url)\n",
    "                if req.status_code != 200:\n",
    "                    print \"Could not download file %s\" % req.status_code\n",
    "                else:\n",
    "                    #print(outdir)\n",
    "                    ensure_dir('{}'.format(outdir))\n",
    "                    with open('/tmp/temp_tar', 'w') as tar_file:\n",
    "                        tar_file.write(req.content)\n",
    "                    with open('/tmp/temp_tar', 'r') as tar_file:\n",
    "                        return _extract_files(tar_file, name=outdir)"
   ]
  },
  {
   "cell_type": "code",
   "execution_count": 12,
   "metadata": {
    "collapsed": false,
    "scrolled": true
   },
   "outputs": [
    {
     "ename": "NameError",
     "evalue": "name 'ensure_dir' is not defined",
     "output_type": "error",
     "traceback": [
      "\u001b[0;31m---------------------------------------------------------------------------\u001b[0m",
      "\u001b[0;31mNameError\u001b[0m                                 Traceback (most recent call last)",
      "\u001b[0;32m<ipython-input-12-b264b7b5dbb1>\u001b[0m in \u001b[0;36m<module>\u001b[0;34m()\u001b[0m\n\u001b[0;32m----> 1\u001b[0;31m \u001b[0mensure_dir\u001b[0m\u001b[0;34m(\u001b[0m\u001b[0;34m'packages'\u001b[0m\u001b[0;34m)\u001b[0m\u001b[0;34m\u001b[0m\u001b[0m\n\u001b[0m\u001b[1;32m      2\u001b[0m \u001b[0;31m#for i, package in enumerate(packages[5300+14100+12400+18500:]):\u001b[0m\u001b[0;34m\u001b[0m\u001b[0;34m\u001b[0m\u001b[0m\n\u001b[1;32m      3\u001b[0m \u001b[0;32mfor\u001b[0m \u001b[0mi\u001b[0m\u001b[0;34m,\u001b[0m \u001b[0mpackage\u001b[0m \u001b[0;32min\u001b[0m \u001b[0menumerate\u001b[0m\u001b[0;34m(\u001b[0m\u001b[0mpackages\u001b[0m\u001b[0;34m[\u001b[0m\u001b[0;36m1\u001b[0m\u001b[0;34m]\u001b[0m\u001b[0;34m)\u001b[0m\u001b[0;34m:\u001b[0m\u001b[0;34m\u001b[0m\u001b[0m\n\u001b[1;32m      4\u001b[0m     \u001b[0;32mif\u001b[0m \u001b[0mi\u001b[0m \u001b[0;34m%\u001b[0m \u001b[0;36m100\u001b[0m \u001b[0;34m==\u001b[0m \u001b[0;36m0\u001b[0m\u001b[0;34m:\u001b[0m\u001b[0;34m\u001b[0m\u001b[0m\n\u001b[1;32m      5\u001b[0m         \u001b[0;32mprint\u001b[0m\u001b[0;34m(\u001b[0m\u001b[0;34m'Extracting package {} / {}'\u001b[0m\u001b[0;34m.\u001b[0m\u001b[0mformat\u001b[0m\u001b[0;34m(\u001b[0m\u001b[0mi\u001b[0m\u001b[0;34m+\u001b[0m\u001b[0;36m1\u001b[0m\u001b[0;34m,\u001b[0m \u001b[0mlen\u001b[0m\u001b[0;34m(\u001b[0m\u001b[0mpackages\u001b[0m\u001b[0;34m)\u001b[0m\u001b[0;34m)\u001b[0m\u001b[0;34m)\u001b[0m\u001b[0;34m\u001b[0m\u001b[0m\n",
      "\u001b[0;31mNameError\u001b[0m: name 'ensure_dir' is not defined"
     ]
    }
   ],
   "source": [
    "ensure_dir('packages')\n",
    "#for i, package in enumerate(packages[5300+14100+12400+18500:]):\n",
    "for i, package in enumerate(packages[1]):\n",
    "    if i % 100 == 0:\n",
    "        print('Extracting package {} / {}'.format(i+1, len(packages)))\n",
    "    #print(package)\n",
    "    \n",
    "    extract_package(package, client)"
   ]
  },
  {
   "cell_type": "markdown",
   "metadata": {},
   "source": [
    "We now have the setup.py and requirements files for every pypi package. I use my own fork of [this repository](https://github.com/landscapeio/requirements-detector) to find the requirements for every package with the following script:\n",
    "\n",
    "```bash\n",
    "for p in packages/*\n",
    "do\n",
    "  echo $p\n",
    "  detect-requirements $p\n",
    "  echo ''\n",
    "done\n",
    "```\n",
    "\n",
    "I will parse the output of this using a different notebook."
   ]
  },
  {
   "cell_type": "code",
   "execution_count": null,
   "metadata": {
    "collapsed": true
   },
   "outputs": [],
   "source": []
  }
 ],
 "metadata": {
  "anaconda-cloud": {},
  "kernelspec": {
   "display_name": "Python [Root]",
   "language": "python",
   "name": "Python [Root]"
  },
  "language_info": {
   "codemirror_mode": {
    "name": "ipython",
    "version": 2
   },
   "file_extension": ".py",
   "mimetype": "text/x-python",
   "name": "python",
   "nbconvert_exporter": "python",
   "pygments_lexer": "ipython2",
   "version": "2.7.12"
  }
 },
 "nbformat": 4,
 "nbformat_minor": 0
}
