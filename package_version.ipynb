{
 "cells": [
  {
   "cell_type": "code",
   "execution_count": 3,
   "metadata": {
    "collapsed": false
   },
   "outputs": [
    {
     "name": "stdout",
     "output_type": "stream",
     "text": [
      "1.0.1 1.6.5 1.10.4\n"
     ]
    }
   ],
   "source": [
    "import requests\n",
    "import math\n",
    "from pkg_resources import parse_version\n",
    "\n",
    "def versions(name):\n",
    "    url = \"https://pypi.python.org/pypi/{}/json\".format(name)\n",
    "    return sorted(requests.get(url).json()[\"releases\"], key=parse_version)\n",
    "\n",
    "versions = versions(\"Django\")\n",
    "\n",
    "first_version = versions[0]\n",
    "half_version = versions[int(math.floor(len(versions)/2))]\n",
    "stable_version = versions[-1]\n",
    "\n",
    "print first_version, half_version, stable_version\n",
    "\n",
    "\n"
   ]
  },
  {
   "cell_type": "code",
   "execution_count": null,
   "metadata": {
    "collapsed": true
   },
   "outputs": [],
   "source": []
  }
 ],
 "metadata": {
  "anaconda-cloud": {},
  "kernelspec": {
   "display_name": "Python [Root]",
   "language": "python",
   "name": "Python [Root]"
  },
  "language_info": {
   "codemirror_mode": {
    "name": "ipython",
    "version": 2
   },
   "file_extension": ".py",
   "mimetype": "text/x-python",
   "name": "python",
   "nbconvert_exporter": "python",
   "pygments_lexer": "ipython2",
   "version": "2.7.12"
  }
 },
 "nbformat": 4,
 "nbformat_minor": 0
}
